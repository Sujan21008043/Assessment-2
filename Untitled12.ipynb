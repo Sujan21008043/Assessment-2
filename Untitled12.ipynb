{
  "nbformat": 4,
  "nbformat_minor": 0,
  "metadata": {
    "colab": {
      "provenance": [],
      "authorship_tag": "ABX9TyMU/DKWAzbKY+GqL+BSjqa/",
      "include_colab_link": true
    },
    "kernelspec": {
      "name": "python3",
      "display_name": "Python 3"
    },
    "language_info": {
      "name": "python"
    }
  },
  "cells": [
    {
      "cell_type": "markdown",
      "metadata": {
        "id": "view-in-github",
        "colab_type": "text"
      },
      "source": [
        "<a href=\"https://colab.research.google.com/github/Sujan21008043/Assessment-2/blob/main/Untitled12.ipynb\" target=\"_parent\"><img src=\"https://colab.research.google.com/assets/colab-badge.svg\" alt=\"Open In Colab\"/></a>"
      ]
    },
    {
      "cell_type": "code",
      "execution_count": null,
      "metadata": {
        "id": "5jQ1fnCG8KMo"
      },
      "outputs": [],
      "source": []
    },
    {
      "cell_type": "markdown",
      "source": [
        "\n",
        "\n",
        "Develop an algorithm\n",
        "Steps followed to develop the algorithm\n",
        "Upload the '"
      ],
      "metadata": {
        "id": "Km6Zb7a38NXF"
      }
    },
    {
      "cell_type": "code",
      "source": [
        "# imports sqlite3 module to work on sqlite database in python\n",
        "import sqlite3"
      ],
      "metadata": {
        "id": "7TWbEaKjwCU0"
      },
      "execution_count": null,
      "outputs": []
    },
    {
      "cell_type": "code",
      "source": [
        "#connect to the database \"AUS_energy_sqlite3\" in sqlite3 library\n",
        "conn = sqlite3.connect(\"AUS_energy_sqlite3.db\")"
      ],
      "metadata": {
        "id": "hDhRItWEwJHr"
      },
      "execution_count": null,
      "outputs": []
    },
    {
      "cell_type": "code",
      "source": [
        "# works as a middleman between dabase and python\n",
        "db_cursor = conn.cursor()"
      ],
      "metadata": {
        "id": "NBdimKqOwVMb"
      },
      "execution_count": null,
      "outputs": []
    },
    {
      "cell_type": "markdown",
      "source": [
        "**Simply checking the rows in 'AUS_energy' table in database **"
      ],
      "metadata": {
        "id": "C3a5qR4qc9Lw"
      }
    },
    {
      "cell_type": "markdown",
      "source": [
        "# Simply checking tables in 'AUS_energy_sqlite3.db' database"
      ],
      "metadata": {
        "id": "Om3s1Apjd159"
      }
    },
    {
      "cell_type": "code",
      "source": [
        "#selects all the table from the sqlite_master table (it stoers the chema for the database)\n",
        "db_cursor.execute(\"SELECT name FROM sqlite_master WHERE type='table';\")\n",
        "# returns a list of tuples which contains the table name in variable 'tables' (retreive data)\n",
        "tables = db_cursor.fetchall()\n",
        "#prints the tables selected (to view the details)\n",
        "print(\"Name of the table is : \", tables)\n",
        "#close the connection\n",
        "db_cursor.close()\n"
      ],
      "metadata": {
        "colab": {
          "base_uri": "https://localhost:8080/"
        },
        "id": "9GKRXPY_zyzs",
        "outputId": "f02eb393-e060-4dd1-d864-b0a1ce385eb2"
      },
      "execution_count": null,
      "outputs": [
        {
          "output_type": "stream",
          "name": "stdout",
          "text": [
            "Name of the table is :  [('AUS_energy',)]\n"
          ]
        }
      ]
    },
    {
      "cell_type": "markdown",
      "source": [
        "# Now selecting and checking rows in the 'AUS_energy' table of the database"
      ],
      "metadata": {
        "id": "C2zD8IhXeuys"
      }
    },
    {
      "cell_type": "markdown",
      "source": [
        "**Selecting all rows of the table in database**\n",
        "We are just selecting the 5 rows as the data are too big."
      ],
      "metadata": {
        "id": "Iy2sXXsp-Mxu"
      }
    },
    {
      "cell_type": "code",
      "source": [
        "# creates cursor object to execute SQL queries against a database.\n",
        "db_cursor = conn.cursor()"
      ],
      "metadata": {
        "id": "i2x3aW8c9wsG"
      },
      "execution_count": null,
      "outputs": []
    },
    {
      "cell_type": "code",
      "source": [
        "#select only 5 rows from from 'AUS_energy' table\n",
        "db_cursor.execute(\"SELECT * from AUS_energy LIMIT 5;\")"
      ],
      "metadata": {
        "colab": {
          "base_uri": "https://localhost:8080/"
        },
        "id": "QJWT45JnHENa",
        "outputId": "e159ba22-c5a4-48d3-9dfe-bbaa6104055a"
      },
      "execution_count": null,
      "outputs": [
        {
          "output_type": "execute_result",
          "data": {
            "text/plain": [
              "<sqlite3.Cursor at 0x7d50d8917c40>"
            ]
          },
          "metadata": {},
          "execution_count": 92
        }
      ]
    },
    {
      "cell_type": "code",
      "source": [
        "# returns a list of tuples which contains the table name in rows variable(retreive data)\n",
        "\n",
        "rows = db_cursor.fetchall()"
      ],
      "metadata": {
        "id": "K5M_5xwhJCY3"
      },
      "execution_count": null,
      "outputs": []
    },
    {
      "cell_type": "code",
      "source": [
        "# prints out the first 5 rows for AUS_energy table in data variable \"rows\"\n",
        "print(\"First Five rows from AUS_energy table; \", rows)"
      ],
      "metadata": {
        "colab": {
          "base_uri": "https://localhost:8080/"
        },
        "id": "2Ke2WXArJTbf",
        "outputId": "7833915d-8f0a-4acb-d042-26941176d0c8"
      },
      "execution_count": null,
      "outputs": [
        {
          "output_type": "stream",
          "name": "stdout",
          "text": [
            "First Five rows from AUS_energy table;  [('2008-09', 'WA', 132.9, 294.3, 474.7, 15.6, 2240250, 244695), ('2008-09', 'NSW', 800.9, 587.5, 131.6, 54.7, 7408540, 530532), ('2008-09', 'VIC', 695.3, 432.9, 273.5, 33.6, 5371934, 368579), ('2008-09', 'QLD', 629.2, 469.5, 187.9, 77.4, 4328771, 284526), ('2008-09', 'SA', 80.2, 120.2, 134.0, 21.2, 1608902, 100174)]\n"
          ]
        }
      ]
    },
    {
      "cell_type": "code",
      "source": [
        "# Closing the connection\n",
        "db_cursor.close()"
      ],
      "metadata": {
        "id": "sTHwdeksJ-xC"
      },
      "execution_count": null,
      "outputs": []
    },
    {
      "cell_type": "markdown",
      "source": [
        "**If we select all the rows**"
      ],
      "metadata": {
        "id": "r7abVOPeJlO1"
      }
    },
    {
      "cell_type": "markdown",
      "source": [],
      "metadata": {
        "id": "kw3oakSAvhTs"
      }
    },
    {
      "cell_type": "code",
      "source": [
        "# creates cursor objerct to execute SQL queries against a database.\n",
        "db_cursor = conn.cursor()"
      ],
      "metadata": {
        "id": "S4BQhKsCJp2I"
      },
      "execution_count": null,
      "outputs": []
    },
    {
      "cell_type": "code",
      "source": [
        "#select only 5 rows from from 'AUS_energy' table\n",
        "db_cursor.execute(\"SELECT * from AUS_energy;\") #removing the limit"
      ],
      "metadata": {
        "colab": {
          "base_uri": "https://localhost:8080/"
        },
        "id": "n3mMo-X7Js_8",
        "outputId": "93b2f947-5e61-48ed-d113-70090d27c3db"
      },
      "execution_count": null,
      "outputs": [
        {
          "output_type": "execute_result",
          "data": {
            "text/plain": [
              "<sqlite3.Cursor at 0x7d50d8fbfc40>"
            ]
          },
          "metadata": {},
          "execution_count": 98
        }
      ]
    },
    {
      "cell_type": "code",
      "source": [
        "# returns a list of tuples which contains the table name in db_cursor variable(retreive data)\n",
        "rows = db_cursor.fetchall()"
      ],
      "metadata": {
        "id": "rYPCD_MhJxTO"
      },
      "execution_count": null,
      "outputs": []
    },
    {
      "cell_type": "code",
      "source": [
        "# prints out all the rows for AUS_energy table in data variable \"rows\"\n",
        "\n",
        "print(\"Rows from AUS_energy table; \") #or print(\"Rows from AUS_energy table; \", tables)\n",
        "# using for in loop to print the list in vertical way\n",
        "for row in rows:\n",
        "  print(row)"
      ],
      "metadata": {
        "colab": {
          "base_uri": "https://localhost:8080/"
        },
        "collapsed": true,
        "id": "HODd7ioHJzz4",
        "outputId": "b2c83512-de55-4ae2-a965-144f8d6eb5af"
      },
      "execution_count": null,
      "outputs": [
        {
          "output_type": "stream",
          "name": "stdout",
          "text": [
            "Rows from AUS_energy table; \n",
            "('2008-09', 'WA', 132.9, 294.3, 474.7, 15.6, 2240250, 244695)\n",
            "('2008-09', 'NSW', 800.9, 587.5, 131.6, 54.7, 7408540, 530532)\n",
            "('2008-09', 'VIC', 695.3, 432.9, 273.5, 33.6, 5371934, 368579)\n",
            "('2008-09', 'QLD', 629.2, 469.5, 187.9, 77.4, 4328771, 284526)\n",
            "('2008-09', 'SA', 80.2, 120.2, 134.0, 21.2, 1608902, 100174)\n",
            "('2008-09', 'TAS', 12.4, 41.6, 11.2, 37.1, 504353, 28165)\n",
            "('2008-09', 'NT', '', 54.8, 39.9, 0.4, 226027, 19562)\n",
            "('2009-10', 'WA', 125.6, 290.0, 474.9, 14.6, 2290845, 259326)\n",
            "('2009-10', 'NSW', 771.8, 638.9, 148.7, 63.8, 7506058, 539670)\n",
            "('2009-10', 'VIC', 688.7, 448.4, 263.5, 36.0, 5461101, 372276)\n",
            "('2009-10', 'QLD', 547.5, 466.9, 195.8, 107.4, 4404744, 290556)\n",
            "('2009-10', 'SA', 79.7, 120.5, 119.5, 20.4, 1627322, 102303)\n",
            "('2009-10', 'TAS', 11.5, 41.5, 13.6, 40.0, 508847, 28402)\n",
            "('2009-10', 'NT', '', 51.9, 42.0, 0.5, 229778, 19469)\n",
            "('2010-11', 'WA', 130.6, 341.5, 494.9, 15.3, 2353409, 271336)\n",
            "('2010-11', 'NSW', 732.2, 685.0, 146.5, 68.6, 7586514, 550617)\n",
            "('2010-11', 'VIC', 681.2, 488.8, 258.6, 44.7, 5537817, 382790)\n",
            "('2010-11', 'QLD', 497.2, 483.3, 190.6, 98.7, 4476778, 292986)\n",
            "('2010-11', 'SA', 72.6, 119.3, 121.8, 23.8, 1639614, 104522)\n",
            "('2010-11', 'TAS', 10.1, 39.2, 17.7, 43.1, 511483, 29078)\n",
            "('2010-11', 'NT', '', 54.9, 44.1, 0.5, 231292, 20035)\n",
            "('2011-12', 'WA', 125.0, 339.5, 503.4, 17.0, 2425507, 293802)\n",
            "('2011-12', 'NSW', 692.7, 687.4, 142.1, 71.1, 7680783, 564462)\n",
            "('2011-12', 'VIC', 705.7, 469.3, 263.6, 41.0, 5651091, 391911)\n",
            "('2011-12', 'QLD', 481.5, 504.8, 246.1, 99.7, 4568687, 310052)\n",
            "('2011-12', 'SA', 60.9, 89.4, 125.2, 24.7, 1656725, 105577)\n",
            "('2011-12', 'TAS', 8.9, 38.1, 16.2, 39.8, 511724, 29644)\n",
            "('2011-12', 'NT', '', 55.7, 42.0, 0.5, 235915, 20841)\n",
            "('2012-13', 'WA', 129.8, 357.5, 515.5, 18.8, 2486944, 311508)\n",
            "('2012-13', 'NSW', 643.0, 677.4, 157.4, 70.9, 7787289, 577133)\n",
            "('2012-13', 'VIC', 622.0, 488.3, 276.2, 55.5, 5772669, 395536)\n",
            "('2012-13', 'QLD', 473.4, 514.7, 239.8, 114.2, 4652824, 318873)\n",
            "('2012-13', 'SA', 50.7, 147.4, 124.6, 25.1, 1671488, 106343)\n",
            "('2012-13', 'TAS', 12.0, 38.5, 17.7, 48.5, 512231, 29474)\n",
            "('2012-13', 'NT', '', 54.2, 45.3, 0.5, 241722, 22263)\n",
            "('2013-14', 'WA', 136.1, 373.5, 536.1, 20.9, 2517608, 329469)\n",
            "('2013-14', 'NSW', 603.5, 666.6, 167.0, 72.8, 7897152, 589786)\n",
            "('2013-14', 'VIC', 605.6, 495.5, 252.8, 57.2, 5894917, 404188)\n",
            "('2013-14', 'QLD', 442.9, 531.2, 258.0, 109.6, 4719653, 325109)\n",
            "('2013-14', 'SA', 46.7, 141.0, 110.1, 29.1, 1686945, 106719)\n",
            "('2013-14', 'TAS', 11.0, 38.2, 12.4, 54.2, 513621, 29910)\n",
            "('2013-14', 'NT', '', 51.2, 47.4, 0.6, 242894, 22530)\n",
            "('2014-15', 'WA', 127.6, 355.6, 539.9, 22.3, 2540672, 336847)\n",
            "('2014-15', 'NSW', 587.8, 621.4, 163.5, 71.0, 8011981, 605748)\n",
            "('2014-15', 'VIC', 641.2, 464.5, 257.7, 59.2, 6022322, 415359)\n",
            "('2014-15', 'QLD', 485.3, 555.5, 294.9, 122.5, 4777692, 327729)\n",
            "('2014-15', 'SA', 54.0, 163.4, 99.5, 30.7, 1700668, 107876)\n",
            "('2014-15', 'TAS', 11.3, 37.9, 6.6, 41.3, 515117, 30235)\n",
            "('2014-15', 'NT', '', 38.4, 44.9, 0.6, 244692, 22827)\n",
            "('2015-16', 'WA', 136.4, 403.7, 561.9, 21.9, 2555978, 340214)\n",
            "('2015-16', 'NSW', 620.9, 633.6, 164.8, 82.4, 8135962, 628348)\n",
            "('2015-16', 'VIC', 617.4, 507.0, 253.9, 62.3, 6173172, 429500)\n",
            "('2015-16', 'QLD', 517.8, 542.5, 296.4, 120.4, 4845152, 335443)\n",
            "('2015-16', 'SA', 52.6, 121.2, 100.6, 31.6, 1712843, 108396)\n",
            "('2015-16', 'TAS', 9.7, 38.1, 12.9, 40.9, 517514, 30763)\n",
            "('2015-16', 'NT', '', 33.4, 49.8, 0.7, 245678, 23275)\n",
            "('2016-17', 'WA', 145.9, 411.4, 594.9, 24.8, 2585720, 336669)\n",
            "('2016-17', 'NSW', 625.9, 652.6, 143.6, 84.5, 8270362, 644777)\n",
            "('2016-17', 'VIC', 577.3, 512.4, 258.7, 65.6, 6302608, 445853)\n",
            "('2016-17', 'QLD', 544.2, 563.6, 309.6, 129.6, 4926380, 344040)\n",
            "('2016-17', 'SA', 26.1, 106.6, 109.6, 31.9, 1728673, 110422)\n",
            "('2016-17', 'TAS', 10.7, 37.0, 13.2, 41.9, 526762, 31119)\n",
            "('2016-17', 'NT', '', 34.4, 48.1, 0.8, 247412, 23616)\n",
            "('2017-18', 'WA', 136.2, 405.2, 643.3, 25.0, 2617792, 344380)\n",
            "('2017-18', 'NSW', 636.7, 672.4, 144.1, 86.6, 8380557, 660048)\n",
            "('2017-18', 'VIC', 467.4, 517.9, 263.6, 66.1, 6423038, 460824)\n",
            "('2017-18', 'QLD', 570.6, 579.1, 302.3, 120.6, 5006623, 357495)\n",
            "('2017-18', 'SA', 25.9, 149.0, 120.4, 37.3, 1746137, 112842)\n",
            "('2017-18', 'TAS', 10.5, 38.1, 13.9, 45.9, 537291, 32226)\n",
            "('2017-18', 'NT', '', 42.3, 46.9, 1.0, 247095, 24072)\n",
            "('2018-19', 'WA', 126.8, 439.4, 667.8, 27.3, 2659625, 349785)\n",
            "('2018-19', 'NSW', 640.3, 665.0, 139.2, 90.4, 8482478, 677799)\n",
            "('2018-19', 'VIC', 444.1, 507.9, 255.9, 72.0, 6537305, 474913)\n",
            "('2018-19', 'QLD', 554.2, 577.3, 294.0, 123.9, 5088847, 360960)\n",
            "('2018-19', 'SA', 26.3, 148.8, 108.3, 39.0, 1767395, 114089)\n",
            "('2018-19', 'TAS', 10.0, 40.3, 10.6, 46.6, 547841, 33413)\n",
            "('2018-19', 'NT', '', 45.8, 86.1, 1.1, 246559, 23811)\n",
            "('2019-20', 'WA', 119.5, 423.6, 692.6, 29.1, 2712912, 354114)\n",
            "('2019-20', 'NSW', 606.6, 611.4, 141.9, 95.6, 8555513, 675496)\n",
            "('2019-20', 'VIC', 423.2, 453.0, 256.5, 77.4, 6615046, 475512)\n",
            "('2019-20', 'QLD', 524.4, 543.7, 313.0, 127.0, 5165613, 357646)\n",
            "('2019-20', 'SA', 24.7, 146.0, 103.7, 40.9, 1790355, 112954)\n",
            "('2019-20', 'TAS', 8.3, 37.3, 7.4, 47.4, 557578, 33521)\n",
            "('2019-20', 'NT', '', 36.5, 108.7, 1.3, 247428, 25243)\n",
            "('2020-21', 'WA', 114.3, 418.6, 670.2, 35.9, 2749365, 365904)\n",
            "('2020-21', 'NSW', 579.8, 556.0, 135.8, 110.6, 8549570, 693658)\n",
            "('2020-21', 'VIC', 427.7, 384.7, 236.3, 89.3, 6547822, 474309)\n",
            "('2020-21', 'QLD', 506.1, 501.8, 313.0, 139.6, 5215814, 368192)\n",
            "('2020-21', 'SA', 25.4, 143.3, 92.2, 44.3, 1802601, 118271)\n",
            "('2020-21', 'TAS', 8.1, 40.0, 7.3, 43.4, 567239, 35195)\n",
            "('2020-21', 'NT', '', 37.6, 106.2, 1.5, 248151, 24890)\n",
            "('2021-22', 'WA', 121.1, 422.5, 673.1, 41.2, 2789148, 377257)\n",
            "('2021-22', 'NSW', 534.6, 547.2, 145.3, 125.4, 8622575, 706003)\n",
            "('2021-22', 'VIC', 410.7, 410.0, 237.5, 105.2, 6625964, 500900)\n",
            "('2021-22', 'QLD', 485.6, 504.7, 305.7, 143.0, 5320496, 384508)\n",
            "('2021-22', 'SA', 25.9, 141.6, 80.2, 48.3, 1821200, 124252)\n",
            "('2021-22', 'TAS', 8.8, 39.9, 7.1, 48.1, 571013, 36701)\n",
            "('2021-22', 'NT', '', 37.6, 110.6, 1.6, 250219, 26058)\n"
          ]
        }
      ]
    },
    {
      "cell_type": "code",
      "source": [
        "#closing the cursor\n",
        "db_cursor.close()"
      ],
      "metadata": {
        "id": "PadZX_NFKCaH"
      },
      "execution_count": null,
      "outputs": []
    },
    {
      "cell_type": "markdown",
      "source": [
        "# Importing Pandas and dataframe"
      ],
      "metadata": {
        "id": "qWWISa9LeVUq"
      }
    },
    {
      "cell_type": "markdown",
      "source": [
        "**Importing Pandas and dataframe**"
      ],
      "metadata": {
        "id": "0DLEakAYUjcP"
      }
    },
    {
      "cell_type": "code",
      "source": [
        "# imports pandas library as pd\n",
        "import pandas as pd"
      ],
      "metadata": {
        "id": "n23HCAY7bsHd"
      },
      "execution_count": null,
      "outputs": []
    },
    {
      "cell_type": "code",
      "source": [
        "# creates a variable 'table_name' containing data of 'AUS_energy' as executed as pandas\n",
        "table_name = 'AUS_energy'"
      ],
      "metadata": {
        "id": "TX8PvlUZcPag"
      },
      "execution_count": null,
      "outputs": []
    },
    {
      "cell_type": "code",
      "source": [
        "#execute SQL query to fetch all the data from 'table_name' in Sqlite database and stoers in pandas dataFrame\n",
        "df = pd.read_sql_query(f\"SELECT * FROM {table_name}\", conn)\n",
        "df.dtypes\n"
      ],
      "metadata": {
        "colab": {
          "base_uri": "https://localhost:8080/"
        },
        "collapsed": true,
        "id": "McH38MfQirS3",
        "outputId": "f3b7b5a0-4915-470e-d482-4a5c7db98821"
      },
      "execution_count": null,
      "outputs": [
        {
          "output_type": "execute_result",
          "data": {
            "text/plain": [
              "Year                object\n",
              "State               object\n",
              "Coal (PJ)           object\n",
              "Oil (PJ)           float64\n",
              "Gas (PJ)           float64\n",
              "Renewables (PJ)    float64\n",
              "Population           int64\n",
              "GSP ($ million)      int64\n",
              "dtype: object"
            ]
          },
          "metadata": {},
          "execution_count": 67
        }
      ]
    },
    {
      "cell_type": "code",
      "source": [
        "print(df)"
      ],
      "metadata": {
        "colab": {
          "base_uri": "https://localhost:8080/"
        },
        "id": "F8kcBMUoi5ax",
        "outputId": "e95d7986-5827-4575-ac00-ec570b5e6271"
      },
      "execution_count": null,
      "outputs": [
        {
          "output_type": "stream",
          "name": "stdout",
          "text": [
            "       Year State Coal (PJ)  Oil (PJ)  Gas (PJ)  Renewables (PJ)  Population  \\\n",
            "0   2008-09    WA     132.9     294.3     474.7             15.6     2240250   \n",
            "1   2008-09   NSW     800.9     587.5     131.6             54.7     7408540   \n",
            "2   2008-09   VIC     695.3     432.9     273.5             33.6     5371934   \n",
            "3   2008-09   QLD     629.2     469.5     187.9             77.4     4328771   \n",
            "4   2008-09    SA      80.2     120.2     134.0             21.2     1608902   \n",
            "..      ...   ...       ...       ...       ...              ...         ...   \n",
            "93  2021-22   VIC     410.7     410.0     237.5            105.2     6625964   \n",
            "94  2021-22   QLD     485.6     504.7     305.7            143.0     5320496   \n",
            "95  2021-22    SA      25.9     141.6      80.2             48.3     1821200   \n",
            "96  2021-22   TAS       8.8      39.9       7.1             48.1      571013   \n",
            "97  2021-22    NT                37.6     110.6              1.6      250219   \n",
            "\n",
            "    GSP ($ million)  \n",
            "0            244695  \n",
            "1            530532  \n",
            "2            368579  \n",
            "3            284526  \n",
            "4            100174  \n",
            "..              ...  \n",
            "93           500900  \n",
            "94           384508  \n",
            "95           124252  \n",
            "96            36701  \n",
            "97            26058  \n",
            "\n",
            "[98 rows x 8 columns]\n"
          ]
        }
      ]
    },
    {
      "cell_type": "code",
      "source": [
        "tables = conn.execute(\"SELECT name FROM sqlite_master WHERE type='table';\").fetchall()\n",
        "tables = [table[0] for table in tables]\n",
        "print(tables)"
      ],
      "metadata": {
        "colab": {
          "base_uri": "https://localhost:8080/"
        },
        "id": "o_f5cvaIpjma",
        "outputId": "bd3d7973-909e-4ee0-a06e-e59e5db22d5f"
      },
      "execution_count": null,
      "outputs": [
        {
          "output_type": "stream",
          "name": "stdout",
          "text": [
            "['AUS_energy']\n"
          ]
        }
      ]
    }
  ]
}