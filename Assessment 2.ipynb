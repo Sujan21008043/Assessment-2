{
  "nbformat": 4,
  "nbformat_minor": 0,
  "metadata": {
    "colab": {
      "provenance": [],
      "authorship_tag": "ABX9TyPSccxgcgXcAa6X8X2RvWDd",
      "include_colab_link": true
    },
    "kernelspec": {
      "name": "python3",
      "display_name": "Python 3"
    },
    "language_info": {
      "name": "python"
    }
  },
  "cells": [
    {
      "cell_type": "markdown",
      "metadata": {
        "id": "view-in-github",
        "colab_type": "text"
      },
      "source": [
        "<a href=\"https://colab.research.google.com/github/Sujan21008043/Assessment-2/blob/main/Assessment%202.ipynb\" target=\"_parent\"><img src=\"https://colab.research.google.com/assets/colab-badge.svg\" alt=\"Open In Colab\"/></a>"
      ]
    },
    {
      "cell_type": "code",
      "execution_count": 10,
      "metadata": {
        "id": "5HuEI3PGpT0c"
      },
      "outputs": [],
      "source": [
        "import sqlite3 #impots sqlite3 library\n"
      ]
    },
    {
      "cell_type": "code",
      "source": [
        "conn = sqlite3.connect('AUS_energy_sqlite3.db') # connect file named 'AUS_energy_sqlite3.db' in sqlite3 library"
      ],
      "metadata": {
        "id": "POGnDdIIpa4J"
      },
      "execution_count": 11,
      "outputs": []
    },
    {
      "cell_type": "code",
      "source": [
        "cur = conn.cursor() # works as a middleman to write sql queries in python,"
      ],
      "metadata": {
        "id": "cbKoNZrKpa1i"
      },
      "execution_count": 12,
      "outputs": []
    },
    {
      "cell_type": "code",
      "source": [
        "sql= ''''\n",
        "SELECT * FROM your_table_name;\n",
        "'''\n",
        "cur.execute(sql)"
      ],
      "metadata": {
        "colab": {
          "base_uri": "https://localhost:8080/",
          "height": 211
        },
        "id": "fyMfp0xxHPU5",
        "outputId": "c7a8126d-4a93-4141-facd-edaa2daabb9c"
      },
      "execution_count": 15,
      "outputs": [
        {
          "output_type": "error",
          "ename": "OperationalError",
          "evalue": "unrecognized token: \"'\nSELECT * FROM your_table_name;\n\"",
          "traceback": [
            "\u001b[0;31m---------------------------------------------------------------------------\u001b[0m",
            "\u001b[0;31mOperationalError\u001b[0m                          Traceback (most recent call last)",
            "\u001b[0;32m<ipython-input-15-65bd80f8fa56>\u001b[0m in \u001b[0;36m<cell line: 4>\u001b[0;34m()\u001b[0m\n\u001b[1;32m      2\u001b[0m \u001b[0mSELECT\u001b[0m \u001b[0;34m*\u001b[0m \u001b[0mFROM\u001b[0m \u001b[0myour_table_name\u001b[0m\u001b[0;34m;\u001b[0m\u001b[0;34m\u001b[0m\u001b[0;34m\u001b[0m\u001b[0m\n\u001b[1;32m      3\u001b[0m '''\n\u001b[0;32m----> 4\u001b[0;31m \u001b[0mcur\u001b[0m\u001b[0;34m.\u001b[0m\u001b[0mexecute\u001b[0m\u001b[0;34m(\u001b[0m\u001b[0msql\u001b[0m\u001b[0;34m)\u001b[0m\u001b[0;34m\u001b[0m\u001b[0;34m\u001b[0m\u001b[0m\n\u001b[0m",
            "\u001b[0;31mOperationalError\u001b[0m: unrecognized token: \"'\nSELECT * FROM your_table_name;\n\""
          ]
        }
      ]
    },
    {
      "cell_type": "code",
      "source": [
        "sql = '''\n",
        "SELECT name FROM sqlite_master WHERE type='table';\n",
        "'''"
      ],
      "metadata": {
        "id": "Ow9eRcBTpay2"
      },
      "execution_count": 7,
      "outputs": []
    },
    {
      "cell_type": "code",
      "source": [],
      "metadata": {
        "id": "scOmvgTPpawa"
      },
      "execution_count": null,
      "outputs": []
    },
    {
      "cell_type": "code",
      "source": [
        "# Connect to the database (replace 'AUS_energy_sqlite3.db' with your actual database file)\n",
        "conn = sqlite3.connect('AUS_energy_sqlite3.db')\n",
        "\n",
        "try:\n",
        "    # Create a cursor\n",
        "    cur = conn.cursor()\n",
        "\n",
        "    # Execute a query (replace 'your_table_name' with the actual table name)\n",
        "    cur.execute(\"SELECT * FROM your_table_name\")\n",
        "\n",
        "    # Fetch results (assuming you want to retrieve all rows)\n",
        "    rows = cur.fetchall()\n",
        "    for row in rows:\n",
        "        print(row)\n",
        "\n",
        "    # Commit any changes (if you made any modifications)\n",
        "    conn.commit()\n",
        "\n",
        "finally:\n",
        "    # Close the cursor and connection\n",
        "    cur.close()\n",
        "    conn.close()"
      ],
      "metadata": {
        "colab": {
          "base_uri": "https://localhost:8080/",
          "height": 211
        },
        "id": "SDxi-h-xpatl",
        "outputId": "9690113b-9af2-4625-9d66-30b5a3939af7"
      },
      "execution_count": 8,
      "outputs": [
        {
          "output_type": "error",
          "ename": "OperationalError",
          "evalue": "no such table: your_table_name",
          "traceback": [
            "\u001b[0;31m---------------------------------------------------------------------------\u001b[0m",
            "\u001b[0;31mOperationalError\u001b[0m                          Traceback (most recent call last)",
            "\u001b[0;32m<ipython-input-8-09d22cd77b0d>\u001b[0m in \u001b[0;36m<cell line: 4>\u001b[0;34m()\u001b[0m\n\u001b[1;32m      7\u001b[0m \u001b[0;34m\u001b[0m\u001b[0m\n\u001b[1;32m      8\u001b[0m     \u001b[0;31m# Execute a query (replace 'your_table_name' with the actual table name)\u001b[0m\u001b[0;34m\u001b[0m\u001b[0;34m\u001b[0m\u001b[0m\n\u001b[0;32m----> 9\u001b[0;31m     \u001b[0mcur\u001b[0m\u001b[0;34m.\u001b[0m\u001b[0mexecute\u001b[0m\u001b[0;34m(\u001b[0m\u001b[0;34m\"SELECT * FROM your_table_name\"\u001b[0m\u001b[0;34m)\u001b[0m\u001b[0;34m\u001b[0m\u001b[0;34m\u001b[0m\u001b[0m\n\u001b[0m\u001b[1;32m     10\u001b[0m \u001b[0;34m\u001b[0m\u001b[0m\n\u001b[1;32m     11\u001b[0m     \u001b[0;31m# Fetch results (assuming you want to retrieve all rows)\u001b[0m\u001b[0;34m\u001b[0m\u001b[0;34m\u001b[0m\u001b[0m\n",
            "\u001b[0;31mOperationalError\u001b[0m: no such table: your_table_name"
          ]
        }
      ]
    },
    {
      "cell_type": "code",
      "source": [],
      "metadata": {
        "id": "T8x_Lk-gpaqa"
      },
      "execution_count": null,
      "outputs": []
    }
  ]
}