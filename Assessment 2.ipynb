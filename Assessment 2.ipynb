{
  "nbformat": 4,
  "nbformat_minor": 0,
  "metadata": {
    "colab": {
      "provenance": [],
      "authorship_tag": "ABX9TyOCFmalmxPd0NYyUgmv0PYM",
      "include_colab_link": true
    },
    "kernelspec": {
      "name": "python3",
      "display_name": "Python 3"
    },
    "language_info": {
      "name": "python"
    }
  },
  "cells": [
    {
      "cell_type": "markdown",
      "metadata": {
        "id": "view-in-github",
        "colab_type": "text"
      },
      "source": [
        "<a href=\"https://colab.research.google.com/github/Sujan21008043/Assessment-2/blob/main/Assessment%202.ipynb\" target=\"_parent\"><img src=\"https://colab.research.google.com/assets/colab-badge.svg\" alt=\"Open In Colab\"/></a>"
      ]
    },
    {
      "cell_type": "code",
      "execution_count": 1,
      "metadata": {
        "id": "5HuEI3PGpT0c"
      },
      "outputs": [],
      "source": [
        "import sqlite3 #impots sqlite3 library\n"
      ]
    },
    {
      "cell_type": "code",
      "source": [
        "conn = sqlite3.connect('AUS_energy_sqlite3.db') # connect file named 'AUS_energy_sqlite3.db' in sqlite3 library"
      ],
      "metadata": {
        "id": "POGnDdIIpa4J"
      },
      "execution_count": 3,
      "outputs": []
    },
    {
      "cell_type": "code",
      "source": [
        "cur = conn.cursor() # works as a middleman to write sql queries,"
      ],
      "metadata": {
        "id": "cbKoNZrKpa1i"
      },
      "execution_count": 4,
      "outputs": []
    },
    {
      "cell_type": "code",
      "source": [
        "sql = ''''\n",
        "SELCET from"
      ],
      "metadata": {
        "id": "Ow9eRcBTpay2"
      },
      "execution_count": null,
      "outputs": []
    },
    {
      "cell_type": "code",
      "source": [],
      "metadata": {
        "id": "scOmvgTPpawa"
      },
      "execution_count": null,
      "outputs": []
    },
    {
      "cell_type": "code",
      "source": [],
      "metadata": {
        "id": "SDxi-h-xpatl"
      },
      "execution_count": null,
      "outputs": []
    },
    {
      "cell_type": "code",
      "source": [],
      "metadata": {
        "id": "T8x_Lk-gpaqa"
      },
      "execution_count": null,
      "outputs": []
    }
  ]
}